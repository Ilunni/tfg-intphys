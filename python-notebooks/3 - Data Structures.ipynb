{
 "cells": [
  {
   "cell_type": "markdown",
   "metadata": {},
   "source": [
    "# Data Structures"
   ]
  },
  {
   "cell_type": "markdown",
   "metadata": {},
   "source": [
    "## More on Lists"
   ]
  },
  {
   "cell_type": "code",
   "execution_count": 5,
   "metadata": {},
   "outputs": [
    {
     "name": "stdout",
     "output_type": "stream",
     "text": [
      "[1]\n",
      "[1, 2, 3, 4, 4, 4, 'extra', 'hello!']\n",
      "[1, 2, 2.5, 3, 4, 4, 4, 'extra', 'hello!']\n",
      "[1, 2, 2.5, 3, 4, 4, 4, 'hello!']\n",
      "hello!\n",
      "[1, 2, 2.5, 3, 4, 4, 4]\n",
      "2\n",
      "3\n",
      "[4, 4, 4, 3, 2.5, 2, 1]\n",
      "[1, 2, 2.5, 3, 4, 4, 4]\n",
      "[]\n",
      "[1, 2, 2.5, 3, 4, 4, 4]\n"
     ]
    }
   ],
   "source": [
    "my_list = []\n",
    "\n",
    "# Add an item to the end of the list\n",
    "my_list.append(1)\n",
    "print(my_list)\n",
    "\n",
    "# Extend the list by appending all the items from the iterable\n",
    "iterable = [2, 3, 4, 4, 4, \"extra\", \"hello!\"]\n",
    "my_list.extend(iterable)\n",
    "print(my_list)\n",
    "\n",
    "# Insert an item at a given position\n",
    "my_list.insert(2, 2.5)\n",
    "print(my_list)\n",
    "\n",
    "# Remove the first item from the list whose value is equal\n",
    "my_list.remove(\"extra\")\n",
    "print(my_list)\n",
    "\n",
    "# Remove the item at a given position and return it. Default last item\n",
    "print(my_list.pop())\n",
    "print(my_list)\n",
    "\n",
    "# Return index of the first item with equal value\n",
    "print(my_list.index(2.5))\n",
    "\n",
    "# Return the number of times a value appears in the list\n",
    "print(my_list.count(4))\n",
    "\n",
    "# Reverse the elements of the list\n",
    "my_list.reverse()\n",
    "print(my_list)\n",
    "\n",
    "# Sort items of the list\n",
    "my_list.sort()\n",
    "print(my_list)\n",
    "\n",
    "# Return a shallow copy of the list\n",
    "list_copy = my_list.copy()\n",
    "\n",
    "# Remove all items from the list\n",
    "my_list.clear()\n",
    "print(my_list)\n",
    "print(list_copy)"
   ]
  },
  {
   "cell_type": "markdown",
   "metadata": {},
   "source": [
    "### Using Lists as Stacks"
   ]
  },
  {
   "cell_type": "code",
   "execution_count": 9,
   "metadata": {},
   "outputs": [
    {
     "name": "stdout",
     "output_type": "stream",
     "text": [
      "[1, 2, 3]\n",
      "[1, 2, 3, 4, 5]\n",
      "[1, 2, 3, 4]\n",
      "[1, 2]\n"
     ]
    }
   ],
   "source": [
    "# Stack, last-in first-out\n",
    "stack = [1, 2, 3]\n",
    "print(stack)\n",
    "\n",
    "stack.append(4)\n",
    "stack.append(5)\n",
    "print(stack)\n",
    "\n",
    "stack.pop()\n",
    "print(stack)\n",
    "\n",
    "stack.pop()\n",
    "stack.pop()\n",
    "print(stack)"
   ]
  },
  {
   "cell_type": "markdown",
   "metadata": {},
   "source": [
    "### Using Lists as Queues"
   ]
  },
  {
   "cell_type": "code",
   "execution_count": 11,
   "metadata": {},
   "outputs": [
    {
     "name": "stdout",
     "output_type": "stream",
     "text": [
      "deque(['Eric', 'John', 'Michael'])\n",
      "deque(['Eric', 'John', 'Michael', 'Terry', 'Graham'])\n",
      "deque(['John', 'Michael', 'Terry', 'Graham'])\n",
      "deque(['Michael', 'Terry', 'Graham'])\n"
     ]
    }
   ],
   "source": [
    "# Queue, first-in first-out\n",
    "# Lists are not efficient for this purpose\n",
    "\n",
    "from collections import deque\n",
    "\n",
    "queue = deque([\"Eric\", \"John\", \"Michael\"])\n",
    "print(queue)\n",
    "\n",
    "queue.append(\"Terry\")\n",
    "queue.append(\"Graham\")\n",
    "print(queue)\n",
    "\n",
    "queue.popleft()\n",
    "print(queue)\n",
    "\n",
    "queue.popleft()\n",
    "print(queue)"
   ]
  },
  {
   "cell_type": "markdown",
   "metadata": {},
   "source": [
    "### List Comprehensions"
   ]
  },
  {
   "cell_type": "code",
   "execution_count": 13,
   "metadata": {},
   "outputs": [
    {
     "name": "stdout",
     "output_type": "stream",
     "text": [
      "[0, 1, 4, 9, 16, 25, 36, 49, 64, 81]\n"
     ]
    }
   ],
   "source": [
    "squares = [x**2 for x in range(10)]\n",
    "print(squares)"
   ]
  },
  {
   "cell_type": "code",
   "execution_count": 17,
   "metadata": {},
   "outputs": [
    {
     "name": "stdout",
     "output_type": "stream",
     "text": [
      "[(1, -1), (2, -2), (3, -3), (4, -4), (1, 1), (3, -1), (4, -2), (5, -3), (2, 2), (3, 1), (5, -1), (6, -2), (3, 3), (4, 2), (5, 1), (7, -1), (4, 4), (5, 3), (6, 2), (7, 1)]\n"
     ]
    }
   ],
   "source": [
    "print([(x+y, x-y) for x in range(5) for y in range(5) if x != y])"
   ]
  },
  {
   "cell_type": "markdown",
   "metadata": {},
   "source": [
    "## The del Statement"
   ]
  },
  {
   "cell_type": "code",
   "execution_count": 19,
   "metadata": {},
   "outputs": [
    {
     "name": "stdout",
     "output_type": "stream",
     "text": [
      "[-1, 1, 333, 333, 1234.5, 66.25]\n",
      "[1, 333, 333, 1234.5, 66.25]\n",
      "[1, 333, 66.25]\n",
      "[]\n"
     ]
    }
   ],
   "source": [
    "a = [-1, 1, 333, 333, 1234.5, 66.25]\n",
    "print(a)\n",
    "\n",
    "del a[0]\n",
    "print(a)\n",
    "\n",
    "del a[2:4]\n",
    "print(a)\n",
    "\n",
    "del a[:]\n",
    "print(a)"
   ]
  },
  {
   "cell_type": "code",
   "execution_count": 22,
   "metadata": {},
   "outputs": [
    {
     "ename": "NameError",
     "evalue": "name 'a' is not defined",
     "output_type": "error",
     "traceback": [
      "\u001b[0;31m---------------------------------------------------------------------------\u001b[0m",
      "\u001b[0;31mNameError\u001b[0m                                 Traceback (most recent call last)",
      "\u001b[0;32m<ipython-input-22-a9eacf64a11b>\u001b[0m in \u001b[0;36m<module>\u001b[0;34m\u001b[0m\n\u001b[1;32m      1\u001b[0m \u001b[0;31m# del can also be used to delete entire variables\u001b[0m\u001b[0;34m\u001b[0m\u001b[0;34m\u001b[0m\u001b[0;34m\u001b[0m\u001b[0m\n\u001b[0;32m----> 2\u001b[0;31m \u001b[0;32mdel\u001b[0m \u001b[0ma\u001b[0m\u001b[0;34m\u001b[0m\u001b[0;34m\u001b[0m\u001b[0m\n\u001b[0m\u001b[1;32m      3\u001b[0m \u001b[0mprint\u001b[0m\u001b[0;34m(\u001b[0m\u001b[0ma\u001b[0m\u001b[0;34m)\u001b[0m\u001b[0;34m\u001b[0m\u001b[0;34m\u001b[0m\u001b[0m\n",
      "\u001b[0;31mNameError\u001b[0m: name 'a' is not defined"
     ]
    }
   ],
   "source": [
    "# del can also be used to delete entire variables\n",
    "del a\n",
    "print(a)"
   ]
  },
  {
   "cell_type": "markdown",
   "metadata": {},
   "source": [
    "## Tuples and Sequences"
   ]
  },
  {
   "cell_type": "code",
   "execution_count": 23,
   "metadata": {},
   "outputs": [
    {
     "name": "stdout",
     "output_type": "stream",
     "text": [
      "(2345, [1, 2, 3], 'Hello')\n",
      "(2345, [1, 2, 4], 'Hello')\n"
     ]
    }
   ],
   "source": [
    "# Sequence data types: list, tuple, range\n",
    "# Tuples are immutable, but may contain mutable objects\n",
    "\n",
    "t = (2345, [1, 2, 3], \"Hello\")\n",
    "print(t)\n",
    "\n",
    "t[1][2] = 4\n",
    "print(t)"
   ]
  },
  {
   "cell_type": "code",
   "execution_count": 24,
   "metadata": {},
   "outputs": [
    {
     "name": "stdout",
     "output_type": "stream",
     "text": [
      "()\n",
      "(1,)\n"
     ]
    }
   ],
   "source": [
    "# 0 or 1 items in a tuple\n",
    "\n",
    "empty = ()\n",
    "print(empty)\n",
    "\n",
    "singleton = (1,)  # Trailing comma is essential\n",
    "print(singleton)"
   ]
  },
  {
   "cell_type": "code",
   "execution_count": 28,
   "metadata": {},
   "outputs": [
    {
     "name": "stdout",
     "output_type": "stream",
     "text": [
      "1 2 3\n"
     ]
    }
   ],
   "source": [
    "# Sequence unpacking\n",
    "t = (1, 2, 3)\n",
    "\n",
    "x, y, z = t\n",
    "print(x, y, z)"
   ]
  },
  {
   "cell_type": "markdown",
   "metadata": {},
   "source": [
    "## Sets"
   ]
  },
  {
   "cell_type": "code",
   "execution_count": 29,
   "metadata": {},
   "outputs": [
    {
     "name": "stdout",
     "output_type": "stream",
     "text": [
      "{'pear', 'apple', 'banana', 'orange'}\n",
      "True\n",
      "False\n"
     ]
    }
   ],
   "source": [
    "# Unordered collection with no duplicate elements\n",
    "# Support math ops like union, intersection, difference and symmetric difference\n",
    "\n",
    "basket = {\"apple\", \"orange\", \"apple\", \"pear\", \"orange\", \"banana\"}\n",
    "print(basket)\n",
    "\n",
    "print(\"orange\" in basket)\n",
    "print(\"pomello\" in basket)"
   ]
  },
  {
   "cell_type": "code",
   "execution_count": 30,
   "metadata": {},
   "outputs": [
    {
     "name": "stdout",
     "output_type": "stream",
     "text": [
      "{'c', 'b', 'a', 'r', 'd'}\n",
      "{'r', 'd', 'b'}\n",
      "{'z', 'c', 'm', 'b', 'a', 'r', 'l', 'd'}\n",
      "{'a', 'c'}\n",
      "{'r', 'z', 'l', 'm', 'd', 'b'}\n"
     ]
    }
   ],
   "source": [
    "a = set(\"abracadabra\")\n",
    "b = set(\"alacazam\")\n",
    "\n",
    "print(a)  # Unique letters in a\n",
    "print(a - b)  # Letters in a but not in b\n",
    "print(a | b)  # Letters in a or b or both\n",
    "print(a & b)  # Letters in both a and b\n",
    "print(a ^ b)  # Letters in a or b but not both"
   ]
  },
  {
   "cell_type": "code",
   "execution_count": 32,
   "metadata": {},
   "outputs": [
    {
     "name": "stdout",
     "output_type": "stream",
     "text": [
      "{'r', 'd'}\n"
     ]
    }
   ],
   "source": [
    "# Set comprehensions are also supported\n",
    "a = {x for x in \"abracadabra\" if x not in \"abc\"}\n",
    "print(a)"
   ]
  },
  {
   "cell_type": "markdown",
   "metadata": {},
   "source": [
    "## Dictionaries"
   ]
  },
  {
   "cell_type": "code",
   "execution_count": 34,
   "metadata": {},
   "outputs": [
    {
     "name": "stdout",
     "output_type": "stream",
     "text": [
      "4900\n",
      "{'jack': 4900, 'sape': 3459, 'guido': 4567}\n",
      "{'jack': 4900, 'guido': 4567, 'irv': 3545}\n",
      "['jack', 'guido', 'irv']\n",
      "['guido', 'irv', 'jack']\n",
      "True\n"
     ]
    }
   ],
   "source": [
    "# Dictionaries are indexed by keys instead of a range of numbers\n",
    "# A set of key:value pairs, the keys are unique (within one dict)\n",
    "\n",
    "my_dict = {\"jack\": 4900, \"sape\": 3459}\n",
    "my_dict[\"guido\"] = 4567\n",
    "print(my_dict[\"jack\"])\n",
    "print(my_dict)\n",
    "\n",
    "del my_dict[\"sape\"]\n",
    "my_dict[\"irv\"] = 3545\n",
    "print(my_dict)\n",
    "\n",
    "print(list(my_dict))\n",
    "print(sorted(my_dict))\n",
    "\n",
    "print(\"guido\" in my_dict)"
   ]
  },
  {
   "cell_type": "code",
   "execution_count": 35,
   "metadata": {},
   "outputs": [
    {
     "data": {
      "text/plain": [
       "{'Hey': 2345, 'you': 1234, 'yeah': 4748}"
      ]
     },
     "execution_count": 35,
     "metadata": {},
     "output_type": "execute_result"
    }
   ],
   "source": [
    "# The dict() constructor builds dictionaries from sequences of key-value pairs\n",
    "dict([(\"Hey\", 2345), (\"you\", 1234), (\"yeah\", 4748)])"
   ]
  },
  {
   "cell_type": "code",
   "execution_count": 36,
   "metadata": {},
   "outputs": [
    {
     "data": {
      "text/plain": [
       "{2: 4, 4: 16, 6: 36}"
      ]
     },
     "execution_count": 36,
     "metadata": {},
     "output_type": "execute_result"
    }
   ],
   "source": [
    "# Dict comprehensions\n",
    "{x: x**2 for x in (2, 4, 6)}"
   ]
  },
  {
   "cell_type": "code",
   "execution_count": 37,
   "metadata": {},
   "outputs": [
    {
     "data": {
      "text/plain": [
       "{'Hey': 2345, 'you': 1234, 'yeah': 4748}"
      ]
     },
     "execution_count": 37,
     "metadata": {},
     "output_type": "execute_result"
    }
   ],
   "source": [
    "# When the key are simple strings, it's easier to use arguments\n",
    "dict(Hey=2345, you=1234, yeah=4748)"
   ]
  },
  {
   "cell_type": "markdown",
   "metadata": {},
   "source": [
    "## Looping Techniques"
   ]
  },
  {
   "cell_type": "code",
   "execution_count": 38,
   "metadata": {},
   "outputs": [
    {
     "name": "stdout",
     "output_type": "stream",
     "text": [
      "gallahad the pure\n",
      "robin the brave\n"
     ]
    }
   ],
   "source": [
    "# Retrieve the key and value at the same time using .items() method\n",
    "knights = {\"gallahad\": \"the pure\", \"robin\": \"the brave\"}\n",
    "for k, v in knights.items():\n",
    "    print(k, v)"
   ]
  },
  {
   "cell_type": "code",
   "execution_count": 39,
   "metadata": {},
   "outputs": [
    {
     "name": "stdout",
     "output_type": "stream",
     "text": [
      "0 hi\n",
      "1 ha\n",
      "2 ho\n"
     ]
    }
   ],
   "source": [
    "# Retrieve the position index and corresponding value in a sequence with .enumerate()\n",
    "for i, v in enumerate([\"hi\", \"ha\", \"ho\"]):\n",
    "    print(i, v)"
   ]
  },
  {
   "cell_type": "code",
   "execution_count": 40,
   "metadata": {},
   "outputs": [
    {
     "name": "stdout",
     "output_type": "stream",
     "text": [
      "What is your name? It is lancelot.\n",
      "What is your quest? It is the holy grail.\n",
      "What is your favorite color? It is blue.\n"
     ]
    }
   ],
   "source": [
    "# We can loop over multiple sequences at the same time with .zip()\n",
    "questions = [\"name\", \"quest\", \"favorite color\"]\n",
    "answers = [\"lancelot\", \"the holy grail\", \"blue\"]\n",
    "\n",
    "for q, a in zip(questions, answers):\n",
    "    print(\"What is your {0}? It is {1}.\".format(q, a))"
   ]
  },
  {
   "cell_type": "code",
   "execution_count": 46,
   "metadata": {},
   "outputs": [
    {
     "name": "stdout",
     "output_type": "stream",
     "text": [
      "9 8 7 6 5 4 3 2 1 BOOM!\n"
     ]
    }
   ],
   "source": [
    "# Use the reversed() function to loop over a sequence in reverse\n",
    "for i in reversed(range(1,10)):\n",
    "    print(i, end=\" \")\n",
    "print(\"BOOM!\")"
   ]
  },
  {
   "cell_type": "code",
   "execution_count": 45,
   "metadata": {},
   "outputs": [
    {
     "name": "stdout",
     "output_type": "stream",
     "text": [
      "1 2 2 4 5 10 12 33 94 "
     ]
    }
   ],
   "source": [
    "# Use the sorted() function to loop over a sequence in sorted order\n",
    "numbers = [1, 10, 33, 2, 4, 5, 2, 94, 12]\n",
    "for number in sorted(numbers):\n",
    "    print(number, end=\" \")"
   ]
  }
 ],
 "metadata": {
  "kernelspec": {
   "display_name": "Python 3",
   "language": "python",
   "name": "python3"
  },
  "language_info": {
   "codemirror_mode": {
    "name": "ipython",
    "version": 3
   },
   "file_extension": ".py",
   "mimetype": "text/x-python",
   "name": "python",
   "nbconvert_exporter": "python",
   "pygments_lexer": "ipython3",
   "version": "3.6.9"
  }
 },
 "nbformat": 4,
 "nbformat_minor": 4
}
