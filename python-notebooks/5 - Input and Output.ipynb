{
 "cells": [
  {
   "cell_type": "markdown",
   "metadata": {},
   "source": [
    "# Input and Output"
   ]
  },
  {
   "cell_type": "markdown",
   "metadata": {},
   "source": [
    "## Fancier Output Formatting"
   ]
  },
  {
   "cell_type": "code",
   "execution_count": 3,
   "metadata": {},
   "outputs": [
    {
     "name": "stdout",
     "output_type": "stream",
     "text": [
      "Results of the 2020 Coronavirus pandemic\n"
     ]
    }
   ],
   "source": [
    "# Formatted string literals\n",
    "year = 2020\n",
    "event = \"Coronavirus pandemic\"\n",
    "print(f\"Results of the {year} {event}\")"
   ]
  },
  {
   "cell_type": "code",
   "execution_count": 5,
   "metadata": {},
   "outputs": [
    {
     "name": "stdout",
     "output_type": "stream",
     "text": [
      "68956 infected, death rate of 5.46%\n"
     ]
    }
   ],
   "source": [
    "# The str.format() method of strings\n",
    "infected = 68956\n",
    "death = 3986\n",
    "percentage = death / (death + infected)\n",
    "print(\"{} infected, death rate of {:2.2%}\".format(infected, percentage))"
   ]
  },
  {
   "cell_type": "code",
   "execution_count": 6,
   "metadata": {},
   "outputs": [
    {
     "data": {
      "text/plain": [
       "'Hello World'"
      ]
     },
     "execution_count": 6,
     "metadata": {},
     "output_type": "execute_result"
    }
   ],
   "source": [
    "# Convert any value to a string with str() or repr() functions\n",
    "s = \"Hello World\"\n",
    "str(s)"
   ]
  },
  {
   "cell_type": "code",
   "execution_count": 7,
   "metadata": {},
   "outputs": [
    {
     "data": {
      "text/plain": [
       "\"'Hello World'\""
      ]
     },
     "execution_count": 7,
     "metadata": {},
     "output_type": "execute_result"
    }
   ],
   "source": [
    "repr(s)"
   ]
  },
  {
   "cell_type": "markdown",
   "metadata": {},
   "source": [
    "### Formatted String Literals"
   ]
  },
  {
   "cell_type": "code",
   "execution_count": 11,
   "metadata": {},
   "outputs": [
    {
     "name": "stdout",
     "output_type": "stream",
     "text": [
      "The calue of pi is 3.14159.\n"
     ]
    }
   ],
   "source": [
    "# Also called f-strings\n",
    "import math\n",
    "print(f\"The value of pi is {math.pi:.5f}.\")"
   ]
  },
  {
   "cell_type": "code",
   "execution_count": 12,
   "metadata": {},
   "outputs": [
    {
     "name": "stdout",
     "output_type": "stream",
     "text": [
      "Sjoerd     ===>       4353\n",
      "Jack       ===>       2930\n",
      "Dcacks     ===>       4567\n"
     ]
    }
   ],
   "source": [
    "# An integer after : specifies the minimum width of that field\n",
    "table = {\"Sjoerd\": 4353, \"Jack\": 2930, \"Dcacks\": 4567}\n",
    "for name, phone in table.items():\n",
    "    print(f\"{name:10} ===> {phone:10d}\")"
   ]
  },
  {
   "cell_type": "code",
   "execution_count": 14,
   "metadata": {},
   "outputs": [
    {
     "name": "stdout",
     "output_type": "stream",
     "text": [
      "Hahahaha LOL\n"
     ]
    }
   ],
   "source": [
    "# !a applies ascii(), !s applies str(), and !r applies repr()\n",
    "banana = \"LOL\"\n",
    "print(f\"Hahahaha {banana!s}\")"
   ]
  },
  {
   "cell_type": "markdown",
   "metadata": {},
   "source": [
    "### The String format( ) Method"
   ]
  },
  {
   "cell_type": "code",
   "execution_count": 15,
   "metadata": {},
   "outputs": [
    {
     "name": "stdout",
     "output_type": "stream",
     "text": [
      "We are the knights who say 'Ni!'\n"
     ]
    }
   ],
   "source": [
    "print(\"We are the {} who say '{}!'\".format(\"knights\", \"Ni\"))"
   ]
  },
  {
   "cell_type": "code",
   "execution_count": 16,
   "metadata": {},
   "outputs": [
    {
     "name": "stdout",
     "output_type": "stream",
     "text": [
      "spam and eggs\n",
      "eggs and spam\n"
     ]
    }
   ],
   "source": [
    "# We can specify the index\n",
    "print(\"{0} and {1}\".format(\"spam\", \"eggs\"))\n",
    "print(\"{1} and {0}\".format(\"spam\", \"eggs\"))"
   ]
  },
  {
   "cell_type": "code",
   "execution_count": 18,
   "metadata": {},
   "outputs": [
    {
     "name": "stdout",
     "output_type": "stream",
     "text": [
      "This spam is disgustingly good\n"
     ]
    }
   ],
   "source": [
    "# Keywords are also allowed\n",
    "print(\"This {food} is {adjective}\".format(food=\"spam\", adjective=\"disgustingly good\"))"
   ]
  },
  {
   "cell_type": "markdown",
   "metadata": {},
   "source": [
    "## Reading and Writing Files"
   ]
  },
  {
   "cell_type": "code",
   "execution_count": null,
   "metadata": {},
   "outputs": [],
   "source": [
    "# The function open() returns a file object, open(filename, mode)\n",
    "file = open(\"workfile\", \"w\")\n",
    "\n",
    "# First argument is the string of filename\n",
    "# Second argument is the mode, describing how the file will be used\n",
    "# \"r\" only read, \"w\" only write, \"a\" opens file for appending\n",
    "# \"r+\" for both writing and reading\n",
    "# Default is \"r\" when nothing is specified, appending \"b\" opens in binary\n",
    "\n",
    "# Automatically closes the file after using it\n",
    "with open(\"workfile\") as f:\n",
    "    read_data = f.read()\n",
    "\n",
    "# Check if the file has been automatically closed\n",
    "f.closed"
   ]
  },
  {
   "cell_type": "code",
   "execution_count": null,
   "metadata": {},
   "outputs": [],
   "source": [
    "# To specify how many characters to read from the file\n",
    "f.read(size=\"number of characters\")\n",
    "\n",
    "# To read a single line from the file\n",
    "f.readline()\n",
    "\n",
    "# We can also loop over the file object\n",
    "for line in f:\n",
    "    print(line, end=\"\")\n",
    "    \n",
    "# To read all the lines in a list\n",
    "list(f)\n",
    "\n",
    "# Or\n",
    "f.readlines()\n",
    "\n",
    "# To write the content of a string to a file\n",
    "f.write(string)"
   ]
  },
  {
   "cell_type": "markdown",
   "metadata": {},
   "source": [
    "### Saving structured data with JSON"
   ]
  },
  {
   "cell_type": "code",
   "execution_count": null,
   "metadata": {},
   "outputs": [],
   "source": [
    "import json\n",
    "\n",
    "# To view the JSON string representation of an object x\n",
    "json.dumps(x)\n",
    "\n",
    "# Serialize to a text file f\n",
    "json.dump(x, f)\n",
    "\n",
    "# To decode the serialized text file, opened for reading\n",
    "x = json.load(f)\n",
    "\n",
    "# This method can serialize lists and dictionaries"
   ]
  }
 ],
 "metadata": {
  "kernelspec": {
   "display_name": "Python 3",
   "language": "python",
   "name": "python3"
  },
  "language_info": {
   "codemirror_mode": {
    "name": "ipython",
    "version": 3
   },
   "file_extension": ".py",
   "mimetype": "text/x-python",
   "name": "python",
   "nbconvert_exporter": "python",
   "pygments_lexer": "ipython3",
   "version": "3.6.9"
  }
 },
 "nbformat": 4,
 "nbformat_minor": 4
}
