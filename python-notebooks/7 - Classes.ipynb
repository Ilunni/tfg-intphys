{
 "cells": [
  {
   "cell_type": "markdown",
   "metadata": {},
   "source": [
    "# Classes"
   ]
  },
  {
   "cell_type": "markdown",
   "metadata": {},
   "source": [
    "Creating a new class creates a new type of object, allowing new instances of that type of object to be made. Each class instance can have attributes attached to it for maintainingits state. Class instances can also have methods for modifying its state."
   ]
  },
  {
   "cell_type": "markdown",
   "metadata": {},
   "source": [
    "## Python Scopes and Namespaces"
   ]
  },
  {
   "cell_type": "markdown",
   "metadata": {},
   "source": [
    "A namespace is a mapping from names to objects, usually implemented as Python dictionaries. There's absolutely no relation between names in different namespaces."
   ]
  },
  {
   "cell_type": "markdown",
   "metadata": {},
   "source": [
    "Attribute is any name following a dot: in z.real, real is an attribute of the object z. Attributes may be read-only or writable, and if they're writable they can also be delated by the del statement."
   ]
  },
  {
   "cell_type": "markdown",
   "metadata": {},
   "source": [
    "Namespaces are created at different moments and have different lifetimes. The global namespace for a module is created when the module definition is read in, and usually lasts until the end. The local namespace for a function is created when the function is called, and deleted when the function returns or raises an exception."
   ]
  },
  {
   "cell_type": "markdown",
   "metadata": {},
   "source": [
    "A scope is a textual region of a Python program where a namespace is directly accessible. At any time during execution, there are at least three nested scopes:\n",
    "\n",
    "* Searched first: Innermost scope. Local names\n",
    "* Searched second: Scopes of enclosing functions. Non-local nor non-global names\n",
    "* Searched third: Next-to-last scope. Current module's global names\n",
    "* Searched fourth: Outermost scope. Built-in names"
   ]
  },
  {
   "cell_type": "code",
   "execution_count": 1,
   "metadata": {},
   "outputs": [
    {
     "name": "stdout",
     "output_type": "stream",
     "text": [
      "After local assignment: test spam\n",
      "After nonlocal assignment: nonlocal spam\n",
      "After global assignment: nonlocal spam\n",
      "In global scope: global spam\n"
     ]
    }
   ],
   "source": [
    "def scope_test():\n",
    "    \n",
    "    def do_local():\n",
    "        spam = \"local spam\"\n",
    "    \n",
    "    def do_nonlocal():\n",
    "        nonlocal spam\n",
    "        spam = \"nonlocal spam\"\n",
    "    \n",
    "    def do_global():\n",
    "        global spam\n",
    "        spam = \"global spam\"\n",
    "    \n",
    "    spam = \"test spam\"\n",
    "    do_local()\n",
    "    print(\"After local assignment:\", spam)\n",
    "    do_nonlocal()\n",
    "    print(\"After nonlocal assignment:\", spam)\n",
    "    do_global()\n",
    "    print(\"After global assignment:\", spam)\n",
    "\n",
    "scope_test()\n",
    "print(\"In global scope:\", spam)"
   ]
  },
  {
   "cell_type": "markdown",
   "metadata": {},
   "source": [
    "## A First Look at Classes"
   ]
  },
  {
   "cell_type": "markdown",
   "metadata": {},
   "source": [
    "### Class Definition Syntax"
   ]
  },
  {
   "cell_type": "code",
   "execution_count": null,
   "metadata": {},
   "outputs": [],
   "source": [
    "# The simplest class definition\n",
    "# Class definitions must be executed before they have any effect\n",
    "class ClassName:\n",
    "    <statement-1>\n",
    "    .\n",
    "    .\n",
    "    .\n",
    "    <statement-N>"
   ]
  },
  {
   "cell_type": "markdown",
   "metadata": {},
   "source": [
    "### Class Objects"
   ]
  },
  {
   "cell_type": "code",
   "execution_count": 2,
   "metadata": {},
   "outputs": [
    {
     "name": "stdout",
     "output_type": "stream",
     "text": [
      "12345\n",
      "<function MyClass.f at 0x7fdd013646a8>\n",
      "A simple example class\n"
     ]
    }
   ],
   "source": [
    "# Class object example\n",
    "class MyClass:    \n",
    "    \"\"\"A simple example class\"\"\"\n",
    "    \n",
    "    i = 12345\n",
    "    \n",
    "    def f(self):\n",
    "        return \"Hello World!\"\n",
    "\n",
    "# Attribute references\n",
    "print(MyClass.i)\n",
    "print(MyClass.f)\n",
    "print(MyClass.__doc__)"
   ]
  },
  {
   "cell_type": "code",
   "execution_count": 5,
   "metadata": {},
   "outputs": [
    {
     "name": "stdout",
     "output_type": "stream",
     "text": [
      "12345\n",
      "<bound method MyClass.f of <__main__.MyClass object at 0x7fdd01348240>>\n"
     ]
    }
   ],
   "source": [
    "# Create an instance of the class\n",
    "# Instantiation uses function notation\n",
    "x = MyClass()\n",
    "print(x.i)\n",
    "print(x.f)"
   ]
  },
  {
   "cell_type": "code",
   "execution_count": 7,
   "metadata": {},
   "outputs": [
    {
     "data": {
      "text/plain": [
       "(3.0, -4.5)"
      ]
     },
     "execution_count": 7,
     "metadata": {},
     "output_type": "execute_result"
    }
   ],
   "source": [
    "# Create objects with instances customized to a specific initial state\n",
    "class MyClass2:\n",
    "    \"\"\"Testing initialization of classes\"\"\"\n",
    "    \n",
    "    def __init__(self):\n",
    "        self.data = []\n",
    "\n",
    "# The __init__ method may have arguments\n",
    "class Complex:\n",
    "    \n",
    "    def __init__(self, realpart, imagpart):\n",
    "        self.r = realpart\n",
    "        self.i = imagpart\n",
    "\n",
    "x = Complex(3.0, -4.5)\n",
    "x.r, x.i"
   ]
  },
  {
   "cell_type": "markdown",
   "metadata": {},
   "source": [
    "### Instance Objects"
   ]
  },
  {
   "cell_type": "code",
   "execution_count": 9,
   "metadata": {},
   "outputs": [
    {
     "name": "stdout",
     "output_type": "stream",
     "text": [
      "16\n",
      "<__main__.MyClass object at 0x7fdd01351f60>\n"
     ]
    }
   ],
   "source": [
    "# Instance variables\n",
    "x = MyClass()\n",
    "x.counter = 1\n",
    "while x.counter < 10:\n",
    "    x.counter = x.counter * 2\n",
    "print(x.counter)"
   ]
  },
  {
   "cell_type": "markdown",
   "metadata": {},
   "source": [
    "### Method Objects"
   ]
  },
  {
   "cell_type": "code",
   "execution_count": 10,
   "metadata": {},
   "outputs": [
    {
     "data": {
      "text/plain": [
       "'Hello World!'"
      ]
     },
     "execution_count": 10,
     "metadata": {},
     "output_type": "execute_result"
    }
   ],
   "source": [
    "# A method is a function that belongs to an object\n",
    "x.f()"
   ]
  },
  {
   "cell_type": "markdown",
   "metadata": {},
   "source": [
    "### Class and Instance Variables"
   ]
  },
  {
   "cell_type": "code",
   "execution_count": 16,
   "metadata": {},
   "outputs": [
    {
     "name": "stdout",
     "output_type": "stream",
     "text": [
      "canine\n",
      "canine\n",
      "Fido\n",
      "Buddy\n"
     ]
    }
   ],
   "source": [
    "class Dog:\n",
    "    \n",
    "    kind = \"canine\"  # Class variable shared by all instances\n",
    "    \n",
    "    def __init__(self, name):\n",
    "        self.name = name  # Instance variable unique to each instance\n",
    "\n",
    "d = Dog(\"Fido\")\n",
    "e = Dog(\"Buddy\")\n",
    "\n",
    "# Shared by all dogs\n",
    "print(d.kind)\n",
    "print(e.kind)\n",
    "\n",
    "# Unique to each dog\n",
    "print(d.name)\n",
    "print(e.name)"
   ]
  },
  {
   "cell_type": "code",
   "execution_count": 18,
   "metadata": {},
   "outputs": [
    {
     "name": "stdout",
     "output_type": "stream",
     "text": [
      "Fido knows to ['roll over']\n",
      "Buddy knows to ['play dead']\n"
     ]
    }
   ],
   "source": [
    "class Dog2:\n",
    "    \n",
    "    def __init__(self, name):\n",
    "        self.name = name\n",
    "        self.tricks = []  # Creates a new empty list for each dog\n",
    "    \n",
    "    def add_trick(self, trick):\n",
    "        self.tricks.append(trick)\n",
    "\n",
    "fido = Dog2(\"Fido\")\n",
    "buddy = Dog2(\"Buddy\")\n",
    "fido.add_trick(\"roll over\")\n",
    "buddy.add_trick(\"play dead\")\n",
    "print(fido.name, \"knows to\", fido.tricks[:])\n",
    "print(buddy.name, \"knows to\", buddy.tricks[:])"
   ]
  },
  {
   "cell_type": "code",
   "execution_count": 19,
   "metadata": {},
   "outputs": [
    {
     "name": "stdout",
     "output_type": "stream",
     "text": [
      "storage west\n",
      "storage east\n"
     ]
    }
   ],
   "source": [
    "# If the same attribute name occurs in both an instance and in class\n",
    "# The one in the instance is prioritized\n",
    "class Warehouse:\n",
    "    purpose = \"storage\"\n",
    "    region = \"west\"\n",
    "\n",
    "w1 = Warehouse()\n",
    "print(w1.purpose, w1.region)\n",
    "w1.region = \"east\"\n",
    "print(w1.purpose, w1.region)"
   ]
  },
  {
   "cell_type": "code",
   "execution_count": 23,
   "metadata": {},
   "outputs": [
    {
     "name": "stdout",
     "output_type": "stream",
     "text": [
      "['tissue', 'key', 'key']\n"
     ]
    }
   ],
   "source": [
    "# Often, the first argument of a method is called self\n",
    "# Methods may call other methods\n",
    "\n",
    "class Bag:\n",
    "    \n",
    "    def __init__(self):\n",
    "        self.data = []\n",
    "    \n",
    "    def add(self, x):\n",
    "        self.data.append(x)\n",
    "    \n",
    "    def add_twice(self, x):\n",
    "        self.add(x)\n",
    "        self.add(x)\n",
    "\n",
    "my_bag = Bag()\n",
    "my_bag.add(\"tissue\")\n",
    "my_bag.add_twice(\"key\")\n",
    "print(my_bag.data)"
   ]
  },
  {
   "cell_type": "markdown",
   "metadata": {},
   "source": [
    "## Iterators"
   ]
  },
  {
   "cell_type": "code",
   "execution_count": 28,
   "metadata": {},
   "outputs": [
    {
     "name": "stdout",
     "output_type": "stream",
     "text": [
      "1 2 3 \n",
      "1 2 3 \n",
      "one two \n",
      "1 2 3 \n"
     ]
    }
   ],
   "source": [
    "for element in [1, 2, 3]:\n",
    "    print(element, end=\" \")\n",
    "print()\n",
    "for element in (1, 2, 3):\n",
    "    print(element, end=\" \")\n",
    "print()\n",
    "for key in {\"one\": 1, \"two\": 2}:\n",
    "    print(key, end=\" \")\n",
    "print()\n",
    "for char in \"123\":\n",
    "    print(char, end=\" \")\n",
    "print()"
   ]
  },
  {
   "cell_type": "code",
   "execution_count": 29,
   "metadata": {},
   "outputs": [],
   "source": [
    "# Add iterator behaviour to classes\n",
    "class Reverse:\n",
    "    \"\"\"Iterator for looping backwards.\"\"\"\n",
    "    \n",
    "    def __init__(self, data):\n",
    "        self.data = data\n",
    "        self.index = len(data)\n",
    "    \n",
    "    def __iter__(self):\n",
    "        return self\n",
    "\n",
    "    def __next__(self):\n",
    "        if self.index == 0:\n",
    "            raise StopIteration\n",
    "        self.index -= 1\n",
    "        return self.data[self.index]"
   ]
  },
  {
   "cell_type": "code",
   "execution_count": 30,
   "metadata": {},
   "outputs": [
    {
     "name": "stdout",
     "output_type": "stream",
     "text": [
      "m\n",
      "a\n",
      "p\n",
      "s\n"
     ]
    }
   ],
   "source": [
    "rev = Reverse(\"spam\")\n",
    "for char in rev:\n",
    "    print(char)"
   ]
  },
  {
   "cell_type": "markdown",
   "metadata": {},
   "source": [
    "## Generators"
   ]
  },
  {
   "cell_type": "code",
   "execution_count": 31,
   "metadata": {},
   "outputs": [
    {
     "name": "stdout",
     "output_type": "stream",
     "text": [
      "f\n",
      "l\n",
      "o\n",
      "g\n"
     ]
    }
   ],
   "source": [
    "# Simple and powerful tool for creating iterators\n",
    "# Like regular functions, but yield instead of return\n",
    "# With generators, __iter__() and __next__() are defined automatically\n",
    "\n",
    "def reverse(data):\n",
    "    for i in range(len(data)-1, -1, -1):\n",
    "        yield data[i]\n",
    "\n",
    "for char in reverse(\"golf\"):\n",
    "    print(char)"
   ]
  }
 ],
 "metadata": {
  "kernelspec": {
   "display_name": "Python 3",
   "language": "python",
   "name": "python3"
  },
  "language_info": {
   "codemirror_mode": {
    "name": "ipython",
    "version": 3
   },
   "file_extension": ".py",
   "mimetype": "text/x-python",
   "name": "python",
   "nbconvert_exporter": "python",
   "pygments_lexer": "ipython3",
   "version": "3.6.9"
  }
 },
 "nbformat": 4,
 "nbformat_minor": 4
}
